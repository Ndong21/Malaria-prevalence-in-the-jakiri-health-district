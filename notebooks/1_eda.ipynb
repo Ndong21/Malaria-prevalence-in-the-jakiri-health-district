{
 "cells": [
  {
   "cell_type": "markdown",
   "metadata": {},
   "source": [
    "### This notebook is primarily for preliminary analysis, data exploration, data cleaning and preparation of data for further analysis."
   ]
  },
  {
   "cell_type": "markdown",
   "metadata": {},
   "source": [
    "First, import the required libraries as well as the dataset."
   ]
  },
  {
   "cell_type": "code",
   "execution_count": 1,
   "metadata": {},
   "outputs": [],
   "source": [
    "# import the libraries\n",
    "\n",
    "import numpy as np # for array and maths operation\n",
    "import pandas as pd # for data manipulation\n",
    "import matplotlib.pyplot as plt # for visualization\n",
    "import seaborn as sns # for visualization"
   ]
  },
  {
   "cell_type": "code",
   "execution_count": 2,
   "metadata": {},
   "outputs": [],
   "source": [
    "# load the dataset using pandas\n",
    "\n",
    "data = pd.read_csv('../data/dataset.csv')"
   ]
  },
  {
   "cell_type": "markdown",
   "metadata": {},
   "source": [
    "Now explore, clean the data and prepare data for further analysis."
   ]
  },
  {
   "cell_type": "code",
   "execution_count": 3,
   "metadata": {},
   "outputs": [
    {
     "data": {
      "text/html": [
       "<div>\n",
       "<style scoped>\n",
       "    .dataframe tbody tr th:only-of-type {\n",
       "        vertical-align: middle;\n",
       "    }\n",
       "\n",
       "    .dataframe tbody tr th {\n",
       "        vertical-align: top;\n",
       "    }\n",
       "\n",
       "    .dataframe thead th {\n",
       "        text-align: right;\n",
       "    }\n",
       "</style>\n",
       "<table border=\"1\" class=\"dataframe\">\n",
       "  <thead>\n",
       "    <tr style=\"text-align: right;\">\n",
       "      <th></th>\n",
       "      <th>year_month</th>\n",
       "      <th>year</th>\n",
       "      <th>month</th>\n",
       "      <th>age</th>\n",
       "      <th>gender</th>\n",
       "      <th>mp</th>\n",
       "    </tr>\n",
       "  </thead>\n",
       "  <tbody>\n",
       "    <tr>\n",
       "      <th>0</th>\n",
       "      <td>2021_9</td>\n",
       "      <td>2021</td>\n",
       "      <td>sept</td>\n",
       "      <td>0</td>\n",
       "      <td>m</td>\n",
       "      <td>1</td>\n",
       "    </tr>\n",
       "    <tr>\n",
       "      <th>1</th>\n",
       "      <td>2021_9</td>\n",
       "      <td>2021</td>\n",
       "      <td>sept</td>\n",
       "      <td>0</td>\n",
       "      <td>m</td>\n",
       "      <td>1</td>\n",
       "    </tr>\n",
       "    <tr>\n",
       "      <th>2</th>\n",
       "      <td>2021_9</td>\n",
       "      <td>2021</td>\n",
       "      <td>sept</td>\n",
       "      <td>0</td>\n",
       "      <td>m</td>\n",
       "      <td>1</td>\n",
       "    </tr>\n",
       "    <tr>\n",
       "      <th>3</th>\n",
       "      <td>2021_9</td>\n",
       "      <td>2021</td>\n",
       "      <td>sept</td>\n",
       "      <td>0</td>\n",
       "      <td>m</td>\n",
       "      <td>1</td>\n",
       "    </tr>\n",
       "    <tr>\n",
       "      <th>4</th>\n",
       "      <td>2021_9</td>\n",
       "      <td>2021</td>\n",
       "      <td>sept</td>\n",
       "      <td>1</td>\n",
       "      <td>f</td>\n",
       "      <td>0</td>\n",
       "    </tr>\n",
       "    <tr>\n",
       "      <th>...</th>\n",
       "      <td>...</td>\n",
       "      <td>...</td>\n",
       "      <td>...</td>\n",
       "      <td>...</td>\n",
       "      <td>...</td>\n",
       "      <td>...</td>\n",
       "    </tr>\n",
       "    <tr>\n",
       "      <th>3796</th>\n",
       "      <td>2007_10</td>\n",
       "      <td>2007</td>\n",
       "      <td>oct</td>\n",
       "      <td>60</td>\n",
       "      <td>m</td>\n",
       "      <td>0</td>\n",
       "    </tr>\n",
       "    <tr>\n",
       "      <th>3797</th>\n",
       "      <td>2007_10</td>\n",
       "      <td>2007</td>\n",
       "      <td>oct</td>\n",
       "      <td>50</td>\n",
       "      <td>f</td>\n",
       "      <td>0</td>\n",
       "    </tr>\n",
       "    <tr>\n",
       "      <th>3798</th>\n",
       "      <td>2007_11</td>\n",
       "      <td>2007</td>\n",
       "      <td>nov</td>\n",
       "      <td>4</td>\n",
       "      <td>m</td>\n",
       "      <td>0</td>\n",
       "    </tr>\n",
       "    <tr>\n",
       "      <th>3799</th>\n",
       "      <td>2007_11</td>\n",
       "      <td>2007</td>\n",
       "      <td>nov</td>\n",
       "      <td>16</td>\n",
       "      <td>m</td>\n",
       "      <td>0</td>\n",
       "    </tr>\n",
       "    <tr>\n",
       "      <th>3800</th>\n",
       "      <td>2007_11</td>\n",
       "      <td>2007</td>\n",
       "      <td>nov</td>\n",
       "      <td>24</td>\n",
       "      <td>f</td>\n",
       "      <td>0</td>\n",
       "    </tr>\n",
       "  </tbody>\n",
       "</table>\n",
       "<p>3801 rows × 6 columns</p>\n",
       "</div>"
      ],
      "text/plain": [
       "     year_month  year month  age gender  mp\n",
       "0        2021_9  2021  sept    0      m   1\n",
       "1        2021_9  2021  sept    0      m   1\n",
       "2        2021_9  2021  sept    0      m   1\n",
       "3        2021_9  2021  sept    0      m   1\n",
       "4        2021_9  2021  sept    1      f   0\n",
       "...         ...   ...   ...  ...    ...  ..\n",
       "3796    2007_10  2007   oct   60      m   0\n",
       "3797    2007_10  2007   oct   50      f   0\n",
       "3798    2007_11  2007   nov    4      m   0\n",
       "3799    2007_11  2007   nov   16      m   0\n",
       "3800    2007_11  2007   nov   24      f   0\n",
       "\n",
       "[3801 rows x 6 columns]"
      ]
     },
     "execution_count": 3,
     "metadata": {},
     "output_type": "execute_result"
    }
   ],
   "source": [
    "# display the first few rows of the dataset to understand the kind of data in the dataset\n",
    "\n",
    "data"
   ]
  },
  {
   "cell_type": "markdown",
   "metadata": {},
   "source": [
    "The dataset has 6 columns:\n",
    "- year_month: represents the year and the particular month this patient visited the health center (time)\n",
    "- year: represent the year the patient visiting the health center and was diagnosed (time)\n",
    "- month: the month the patient was diagnosed (time)\n",
    "- age: age of the patient in years (0 means the patient was less than 1 year old) (continous data)\n",
    "- gender: represents the sex of the patient (categorical data)\n",
    "- mp: stands for malaria parasite determined by microscopy or use of RDTs (1-positive for malaria parasite, 0-negative for malarai parasite) (categorical)"
   ]
  },
  {
   "cell_type": "markdown",
   "metadata": {},
   "source": [
    "Check the data type and related info for each variable"
   ]
  },
  {
   "cell_type": "code",
   "execution_count": 4,
   "metadata": {},
   "outputs": [
    {
     "name": "stdout",
     "output_type": "stream",
     "text": [
      "<class 'pandas.core.frame.DataFrame'>\n",
      "RangeIndex: 3801 entries, 0 to 3800\n",
      "Data columns (total 6 columns):\n",
      " #   Column      Non-Null Count  Dtype \n",
      "---  ------      --------------  ----- \n",
      " 0   year_month  3801 non-null   object\n",
      " 1   year        3801 non-null   int64 \n",
      " 2   month       3801 non-null   object\n",
      " 3   age         3801 non-null   int64 \n",
      " 4   gender      3801 non-null   object\n",
      " 5   mp          3801 non-null   int64 \n",
      "dtypes: int64(3), object(3)\n",
      "memory usage: 178.3+ KB\n"
     ]
    }
   ],
   "source": [
    "# understand properties of the variables in the dataset\n",
    "\n",
    "data.info()"
   ]
  },
  {
   "cell_type": "markdown",
   "metadata": {},
   "source": [
    "Check each unique number of categories under each categorical variable (mp, year, gender, month)"
   ]
  },
  {
   "cell_type": "code",
   "execution_count": 5,
   "metadata": {},
   "outputs": [
    {
     "name": "stdout",
     "output_type": "stream",
     "text": [
      "unique categories in year\n",
      "[2021 2020 2019 2018 2017 2016 2014 2015 2011 2010 2012 2013 2007 2009\n",
      " 2008 2006]\n",
      "-----------------------\n",
      "unique categories in month\n",
      "['sept' 'oct' 'nov' 'may ' 'may' 'mar' 'june' 'july' 'jan' 'feb' 'dec'\n",
      " 'aug' 'april' 'mar ' 'aprl' 'dec ' '0ct' 'june ']\n",
      "-----------------------\n",
      "unique categories in gender\n",
      "['m' 'f' 'm ' ' m' ' f' 'd' 'g' 'f ']\n",
      "-----------------------\n",
      "unique categories in mp\n",
      "[1 0 9]\n",
      "-----------------------\n"
     ]
    }
   ],
   "source": [
    "# check for unique categories for each variable\n",
    "\n",
    "list = data[['year','month','gender','mp']]\n",
    "for i in list:\n",
    "    print('unique categories in', i)\n",
    "    data[i].unique()\n",
    "    print(data[i].unique())\n",
    "    print('-----------------------')\n"
   ]
  },
  {
   "cell_type": "markdown",
   "metadata": {},
   "source": [
    "From the output cell above, we have data from 16 different years. Month, gender, mp seem to have some irregularities probably due to data entry."
   ]
  },
  {
   "cell_type": "markdown",
   "metadata": {},
   "source": [
    "For the month category, we out to have 12 unique values. looking at the output cell above, we seem to have some misspelled which have created addition categories."
   ]
  },
  {
   "cell_type": "code",
   "execution_count": 6,
   "metadata": {},
   "outputs": [
    {
     "data": {
      "text/plain": [
       "array(['sept', 'oct', 'nov', 'may', 'mar', 'june', 'july', 'jan', 'feb',\n",
       "       'dec', 'aug', 'april'], dtype=object)"
      ]
     },
     "execution_count": 6,
     "metadata": {},
     "output_type": "execute_result"
    }
   ],
   "source": [
    "# handling irregularities in the month column.\n",
    "# df['colunm'].replace({'string to replace': 'replacement value'}, inplace = True)\n",
    "\n",
    "# replace '0ct' with 'oct'\n",
    "# replace 'aprl' with 'april'\n",
    "# replace 'dec ' with 'dec'\n",
    "# replace 'may ' with 'may' \n",
    "# replace 'june ' with 'june' \n",
    "# replace 'mar ' with 'mar' \n",
    "\n",
    "data['month'] = data['month'].replace({'0ct':'oct', 'dec ':'dec', 'aprl':'april', 'mar ':'mar', 'may ':'may', 'june ':'june'})\n",
    "data['month'].unique()"
   ]
  },
  {
   "cell_type": "code",
   "execution_count": 7,
   "metadata": {},
   "outputs": [
    {
     "data": {
      "text/plain": [
       "array(['m', 'f'], dtype=object)"
      ]
     },
     "execution_count": 7,
     "metadata": {},
     "output_type": "execute_result"
    }
   ],
   "source": [
    "# handling irregularities in gender category\n",
    "# replace 'm ', ' m' with 'm'\n",
    "# replace ' f', 'f ', 'd', 'g' with 'f'\n",
    "\n",
    "data['gender'] = data['gender'].replace({'m ':'m', ' m':'m', ' f':'f', 'f ':'f', 'd':'f', 'g':'f'})\n",
    "data['gender'].unique()"
   ]
  },
  {
   "cell_type": "code",
   "execution_count": 8,
   "metadata": {},
   "outputs": [
    {
     "data": {
      "text/plain": [
       "array([1, 0], dtype=int64)"
      ]
     },
     "execution_count": 8,
     "metadata": {},
     "output_type": "execute_result"
    }
   ],
   "source": [
    "# handling irregularities in the mp column\n",
    "# replace 9 with 0\n",
    "\n",
    "data['mp'] = data['mp'].replace(9,0)\n",
    "data['mp'].unique()"
   ]
  },
  {
   "cell_type": "markdown",
   "metadata": {},
   "source": [
    "Now, the last task to prepare the data will be to classify the age into different categories."
   ]
  },
  {
   "cell_type": "code",
   "execution_count": 9,
   "metadata": {},
   "outputs": [
    {
     "data": {
      "text/plain": [
       "array([ 0,  1,  2,  4, 10, 11, 12, 17, 18, 20, 21, 23, 24, 32, 35, 36, 37,\n",
       "       41, 43, 50, 51, 54, 60, 70,  5,  6,  7,  8, 22, 28, 30, 49, 56, 66,\n",
       "       76, 80,  3,  9, 19, 27, 31, 33, 45, 68, 74, 16, 14, 15, 25, 34, 39,\n",
       "       40, 47, 52, 53, 55, 57, 63, 71, 72, 13, 26, 38, 44, 64, 90, 29, 42,\n",
       "       58, 65, 69, 77, 62, 48, 67, 75, 61, 73, 46, 59, 85, 82, 83, 78, 88,\n",
       "       86, 98, 79, 93], dtype=int64)"
      ]
     },
     "execution_count": 9,
     "metadata": {},
     "output_type": "execute_result"
    }
   ],
   "source": [
    "# display all the unique values in the age variable\n",
    "\n",
    "data['age'].unique()"
   ]
  },
  {
   "cell_type": "markdown",
   "metadata": {},
   "source": [
    "- So from above output, age ranges from 0 years (< 12 months) to 93 years.\n",
    "- This is malaria related data and we would like to understand prevalence levels for patients <1yr, 1-<5yrs, 5-<15yrs, 15-<45yrs, 45-<65yrs and >=65yrs"
   ]
  },
  {
   "cell_type": "code",
   "execution_count": null,
   "metadata": {},
   "outputs": [],
   "source": [
    "# create a new column in our dataset called age_group\n",
    "# categories age into 3 categories\n",
    "# 10 to 13 yrs: (9, 13], 9 is excluded and 13 is included\n",
    "# 14 to 16 yrs: (13, 16], 13 is excluded and 16 is included\n",
    "# 17 to 19 yrs: (16, 19], 16 is excluded and 19 is included.\n",
    "\n",
    "students['Age_group'] = pd.cut(x=students['Age'], bins=[9, 13, 16, 19], labels=['10 to 13 yrs','14 to 16 yrs','17 to 19 yrs'])\n"
   ]
  },
  {
   "cell_type": "code",
   "execution_count": 17,
   "metadata": {},
   "outputs": [],
   "source": [
    "# create a new column in the dataset called age_groups\n",
    "# categorise age into 5 categories\n",
    "# <1yr: (data['age'].min(), 0)\n",
    "# 1-<5yrs: (0, 4], 0 is excluded and 4 is included (patients between 1 and 4 years)\n",
    "# 5-<15yrs: (4, 14], patients between 5 and 14 years\n",
    "# 15-<45yrs: (14,44], patients between 15 and 44 years\n",
    "# 45-<65yrs> (44, 64], patients between 45 and 64 years\n",
    "# >=65yrs: (64, data['age'].max())\n",
    "\n",
    "bins = [data['age'].min()-1, 0, 4, 14, 44, 64, data['age'].max()]\n",
    "labels = ['<1yr', '1-<5yrs', '5-<15yrs', '15-<45yrs', '45-<65yrs', '>=65yrs']\n",
    "data['age_groups'] = pd.cut(x=data['age'], bins=bins, labels=labels)\n"
   ]
  },
  {
   "cell_type": "markdown",
   "metadata": {},
   "source": [
    "Another category of patients i would evaluate are patients below and above 15 years of age. Hence i will create another variable called 'age_cat'"
   ]
  },
  {
   "cell_type": "code",
   "execution_count": 28,
   "metadata": {},
   "outputs": [],
   "source": [
    "# creating a variable age_cat which will have 2 values, <15yrs and >=15yrs.\n",
    "# <15yrs: (data['age'].min(), 14): patients between 0 and 14 years\n",
    "# >=15yrs: (14, data['age'].max())\n",
    "\n",
    "bin=[data['age'].min()-1, 14, data['age'].max()]\n",
    "label=['<15yrs', '>=15yrs']\n",
    "data['age_cat'] = pd.cut(x=data['age'], bins=bin, labels=label )"
   ]
  },
  {
   "cell_type": "code",
   "execution_count": 29,
   "metadata": {},
   "outputs": [
    {
     "data": {
      "text/html": [
       "<div>\n",
       "<style scoped>\n",
       "    .dataframe tbody tr th:only-of-type {\n",
       "        vertical-align: middle;\n",
       "    }\n",
       "\n",
       "    .dataframe tbody tr th {\n",
       "        vertical-align: top;\n",
       "    }\n",
       "\n",
       "    .dataframe thead th {\n",
       "        text-align: right;\n",
       "    }\n",
       "</style>\n",
       "<table border=\"1\" class=\"dataframe\">\n",
       "  <thead>\n",
       "    <tr style=\"text-align: right;\">\n",
       "      <th></th>\n",
       "      <th>year_month</th>\n",
       "      <th>year</th>\n",
       "      <th>month</th>\n",
       "      <th>age</th>\n",
       "      <th>gender</th>\n",
       "      <th>mp</th>\n",
       "      <th>age_groups</th>\n",
       "      <th>age_cat</th>\n",
       "    </tr>\n",
       "  </thead>\n",
       "  <tbody>\n",
       "    <tr>\n",
       "      <th>0</th>\n",
       "      <td>2021_9</td>\n",
       "      <td>2021</td>\n",
       "      <td>sept</td>\n",
       "      <td>0</td>\n",
       "      <td>m</td>\n",
       "      <td>1</td>\n",
       "      <td>&lt;1yr</td>\n",
       "      <td>&lt;15yrs</td>\n",
       "    </tr>\n",
       "    <tr>\n",
       "      <th>1</th>\n",
       "      <td>2021_9</td>\n",
       "      <td>2021</td>\n",
       "      <td>sept</td>\n",
       "      <td>0</td>\n",
       "      <td>m</td>\n",
       "      <td>1</td>\n",
       "      <td>&lt;1yr</td>\n",
       "      <td>&lt;15yrs</td>\n",
       "    </tr>\n",
       "    <tr>\n",
       "      <th>2</th>\n",
       "      <td>2021_9</td>\n",
       "      <td>2021</td>\n",
       "      <td>sept</td>\n",
       "      <td>0</td>\n",
       "      <td>m</td>\n",
       "      <td>1</td>\n",
       "      <td>&lt;1yr</td>\n",
       "      <td>&lt;15yrs</td>\n",
       "    </tr>\n",
       "    <tr>\n",
       "      <th>3</th>\n",
       "      <td>2021_9</td>\n",
       "      <td>2021</td>\n",
       "      <td>sept</td>\n",
       "      <td>0</td>\n",
       "      <td>m</td>\n",
       "      <td>1</td>\n",
       "      <td>&lt;1yr</td>\n",
       "      <td>&lt;15yrs</td>\n",
       "    </tr>\n",
       "    <tr>\n",
       "      <th>4</th>\n",
       "      <td>2021_9</td>\n",
       "      <td>2021</td>\n",
       "      <td>sept</td>\n",
       "      <td>1</td>\n",
       "      <td>f</td>\n",
       "      <td>0</td>\n",
       "      <td>1-&lt;5yrs</td>\n",
       "      <td>&lt;15yrs</td>\n",
       "    </tr>\n",
       "    <tr>\n",
       "      <th>...</th>\n",
       "      <td>...</td>\n",
       "      <td>...</td>\n",
       "      <td>...</td>\n",
       "      <td>...</td>\n",
       "      <td>...</td>\n",
       "      <td>...</td>\n",
       "      <td>...</td>\n",
       "      <td>...</td>\n",
       "    </tr>\n",
       "    <tr>\n",
       "      <th>3796</th>\n",
       "      <td>2007_10</td>\n",
       "      <td>2007</td>\n",
       "      <td>oct</td>\n",
       "      <td>60</td>\n",
       "      <td>m</td>\n",
       "      <td>0</td>\n",
       "      <td>45-&lt;65yrs</td>\n",
       "      <td>&gt;=15yrs</td>\n",
       "    </tr>\n",
       "    <tr>\n",
       "      <th>3797</th>\n",
       "      <td>2007_10</td>\n",
       "      <td>2007</td>\n",
       "      <td>oct</td>\n",
       "      <td>50</td>\n",
       "      <td>f</td>\n",
       "      <td>0</td>\n",
       "      <td>45-&lt;65yrs</td>\n",
       "      <td>&gt;=15yrs</td>\n",
       "    </tr>\n",
       "    <tr>\n",
       "      <th>3798</th>\n",
       "      <td>2007_11</td>\n",
       "      <td>2007</td>\n",
       "      <td>nov</td>\n",
       "      <td>4</td>\n",
       "      <td>m</td>\n",
       "      <td>0</td>\n",
       "      <td>1-&lt;5yrs</td>\n",
       "      <td>&lt;15yrs</td>\n",
       "    </tr>\n",
       "    <tr>\n",
       "      <th>3799</th>\n",
       "      <td>2007_11</td>\n",
       "      <td>2007</td>\n",
       "      <td>nov</td>\n",
       "      <td>16</td>\n",
       "      <td>m</td>\n",
       "      <td>0</td>\n",
       "      <td>15-&lt;45yrs</td>\n",
       "      <td>&gt;=15yrs</td>\n",
       "    </tr>\n",
       "    <tr>\n",
       "      <th>3800</th>\n",
       "      <td>2007_11</td>\n",
       "      <td>2007</td>\n",
       "      <td>nov</td>\n",
       "      <td>24</td>\n",
       "      <td>f</td>\n",
       "      <td>0</td>\n",
       "      <td>15-&lt;45yrs</td>\n",
       "      <td>&gt;=15yrs</td>\n",
       "    </tr>\n",
       "  </tbody>\n",
       "</table>\n",
       "<p>3801 rows × 8 columns</p>\n",
       "</div>"
      ],
      "text/plain": [
       "     year_month  year month  age gender  mp age_groups  age_cat\n",
       "0        2021_9  2021  sept    0      m   1       <1yr   <15yrs\n",
       "1        2021_9  2021  sept    0      m   1       <1yr   <15yrs\n",
       "2        2021_9  2021  sept    0      m   1       <1yr   <15yrs\n",
       "3        2021_9  2021  sept    0      m   1       <1yr   <15yrs\n",
       "4        2021_9  2021  sept    1      f   0    1-<5yrs   <15yrs\n",
       "...         ...   ...   ...  ...    ...  ..        ...      ...\n",
       "3796    2007_10  2007   oct   60      m   0  45-<65yrs  >=15yrs\n",
       "3797    2007_10  2007   oct   50      f   0  45-<65yrs  >=15yrs\n",
       "3798    2007_11  2007   nov    4      m   0    1-<5yrs   <15yrs\n",
       "3799    2007_11  2007   nov   16      m   0  15-<45yrs  >=15yrs\n",
       "3800    2007_11  2007   nov   24      f   0  15-<45yrs  >=15yrs\n",
       "\n",
       "[3801 rows x 8 columns]"
      ]
     },
     "execution_count": 29,
     "metadata": {},
     "output_type": "execute_result"
    }
   ],
   "source": [
    "data"
   ]
  },
  {
   "cell_type": "markdown",
   "metadata": {},
   "source": [
    "We have successfully clean and prepare the data which can now be used for further analysis and modelling.\n"
   ]
  },
  {
   "cell_type": "markdown",
   "metadata": {},
   "source": [
    "Next, we will save the clean dataset to a new file which will be used in preceeding notebooks"
   ]
  },
  {
   "cell_type": "code",
   "execution_count": 30,
   "metadata": {},
   "outputs": [],
   "source": [
    "data.to_csv('../data/cleaned_data.csv')"
   ]
  }
 ],
 "metadata": {
  "kernelspec": {
   "display_name": "Python 3",
   "language": "python",
   "name": "python3"
  },
  "language_info": {
   "codemirror_mode": {
    "name": "ipython",
    "version": 3
   },
   "file_extension": ".py",
   "mimetype": "text/x-python",
   "name": "python",
   "nbconvert_exporter": "python",
   "pygments_lexer": "ipython3",
   "version": "3.11.4"
  }
 },
 "nbformat": 4,
 "nbformat_minor": 2
}
